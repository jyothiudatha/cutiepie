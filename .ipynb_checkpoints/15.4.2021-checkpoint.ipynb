{
 "cells": [
  {
   "cell_type": "code",
   "execution_count": 1,
   "metadata": {},
   "outputs": [
    {
     "name": "stdout",
     "output_type": "stream",
     "text": [
      "hello world\n"
     ]
    }
   ],
   "source": [
    "print(\"hello world\")"
   ]
  },
  {
   "cell_type": "markdown",
   "metadata": {},
   "source": [
    "# python\n",
    "## python\n",
    "## python\n",
    "### python\n",
    "#### python\n",
    "##### python\n",
    "###### python\n",
    "\n"
   ]
  },
  {
   "cell_type": "code",
   "execution_count": 2,
   "metadata": {},
   "outputs": [
    {
     "data": {
      "text/plain": [
       "15"
      ]
     },
     "execution_count": 2,
     "metadata": {},
     "output_type": "execute_result"
    }
   ],
   "source": [
    "a=5\n",
    "b=10\n",
    "c=a+b\n",
    "c"
   ]
  },
  {
   "cell_type": "code",
   "execution_count": 3,
   "metadata": {},
   "outputs": [
    {
     "name": "stdout",
     "output_type": "stream",
     "text": [
      "5.6\n",
      "4.7\n",
      "10.3\n"
     ]
    }
   ],
   "source": [
    "a=float(input())\n",
    "b=float(input())\n",
    "c=a+b\n",
    "print(c)\n"
   ]
  },
  {
   "cell_type": "code",
   "execution_count": 4,
   "metadata": {},
   "outputs": [
    {
     "data": {
      "text/plain": [
       "Type help() for interactive help, or help(object) for help about object."
      ]
     },
     "execution_count": 4,
     "metadata": {},
     "output_type": "execute_result"
    }
   ],
   "source": [
    "help\n"
   ]
  },
  {
   "cell_type": "code",
   "execution_count": null,
   "metadata": {},
   "outputs": [
    {
     "name": "stdout",
     "output_type": "stream",
     "text": [
      "\n",
      "Welcome to Python 3.8's help utility!\n",
      "\n",
      "If this is your first time using Python, you should definitely check out\n",
      "the tutorial on the Internet at https://docs.python.org/3.8/tutorial/.\n",
      "\n",
      "Enter the name of any module, keyword, or topic to get help on writing\n",
      "Python programs and using Python modules.  To quit this help utility and\n",
      "return to the interpreter, just type \"quit\".\n",
      "\n",
      "To get a list of available modules, keywords, symbols, or topics, type\n",
      "\"modules\", \"keywords\", \"symbols\", or \"topics\".  Each module also comes\n",
      "with a one-line summary of what it does; to list the modules whose name\n",
      "or summary contain a given string such as \"spam\", type \"modules spam\".\n",
      "\n",
      "help> print\n",
      "Help on built-in function print in module builtins:\n",
      "\n",
      "print(...)\n",
      "    print(value, ..., sep=' ', end='\\n', file=sys.stdout, flush=False)\n",
      "    \n",
      "    Prints the values to a stream, or to sys.stdout by default.\n",
      "    Optional keyword arguments:\n",
      "    file:  a file-like object (stream); defaults to the current sys.stdout.\n",
      "    sep:   string inserted between values, default a space.\n",
      "    end:   string appended after the last value, default a newline.\n",
      "    flush: whether to forcibly flush the stream.\n",
      "\n",
      "help> keywords\n",
      "\n",
      "Here is a list of the Python keywords.  Enter any keyword to get more help.\n",
      "\n",
      "False               class               from                or\n",
      "None                continue            global              pass\n",
      "True                def                 if                  raise\n",
      "and                 del                 import              return\n",
      "as                  elif                in                  try\n",
      "assert              else                is                  while\n",
      "async               except              lambda              with\n",
      "await               finally             nonlocal            yield\n",
      "break               for                 not                 \n",
      "\n",
      "help> modules\n",
      "\n",
      "Please wait a moment while I gather a list of all available modules...\n",
      "\n"
     ]
    },
    {
     "name": "stderr",
     "output_type": "stream",
     "text": [
      "E:\\New folder\\lib\\site-packages\\IPython\\kernel\\__init__.py:12: ShimWarning: The `IPython.kernel` package has been deprecated since IPython 4.0.You should import from ipykernel or jupyter_client instead.\n",
      "  warn(\"The `IPython.kernel` package has been deprecated since IPython 4.0.\"\n",
      "E:\\New folder\\lib\\pkgutil.py:92: MatplotlibDeprecationWarning: \n",
      "The matplotlib.compat module was deprecated in Matplotlib 3.3 and will be removed two minor releases later.\n",
      "  __import__(info.name)\n",
      "E:\\New folder\\lib\\site-packages\\nltk\\twitter\\__init__.py:21: UserWarning: The twython library has not been installed. Some functionality from the twitter package will not be available.\n",
      "  warnings.warn(\n",
      "E:\\New folder\\lib\\site-packages\\skimage\\viewer\\utils\\__init__.py:1: UserWarning: Recommended matplotlib backend is `Agg` for full skimage.viewer functionality.\n",
      "  from .core import *\n"
     ]
    },
    {
     "name": "stdout",
     "output_type": "stream",
     "text": [
      "Update LANGUAGE_CODES (inside config/base.py) if a new translation has been added to Spyder\n"
     ]
    },
    {
     "name": "stderr",
     "output_type": "stream",
     "text": [
      "E:\\New folder\\lib\\site-packages\\qtawesome\\iconic_font.py:311: UserWarning: You need to have a running QApplication to use QtAwesome!\n",
      "  warnings.warn(\"You need to have a running \"\n",
      "E:\\New folder\\lib\\pkgutil.py:107: VisibleDeprecationWarning: zmq.eventloop.minitornado is deprecated in pyzmq 14.0 and will be removed.\n",
      "    Install tornado itself to use zmq with the tornado IOLoop.\n",
      "    \n",
      "  yield from walk_packages(path, info.name+'.', onerror)\n"
     ]
    },
    {
     "name": "stdout",
     "output_type": "stream",
     "text": [
      "Cython              brain_responses     marshal             socket\n",
      "IPython             brain_scipy_signal  math                socketserver\n",
      "OpenSSL             brain_six           matplotlib          socks\n",
      "PIL                 brain_ssl           mccabe              sockshandler\n",
      "PyQt5               brain_subprocess    menuinst            sortedcollections\n",
      "__future__          brain_threading     mimetypes           sortedcontainers\n",
      "_abc                brain_typing        mistune             soupsieve\n",
      "_ast                brain_uuid          mkl                 sphinx\n",
      "_asyncio            brotli              mkl_fft             sphinxcontrib\n",
      "_bisect             bs4                 mkl_random          spyder\n",
      "_blake2             builtins            mmap                spyder_kernels\n",
      "_bootlocale         bz2                 mmapfile            sqlalchemy\n",
      "_bz2                cProfile            mmsystem            sqlite3\n",
      "_cffi_backend       calendar            mock                sre_compile\n",
      "_codecs             certifi             modulefinder        sre_constants\n",
      "_codecs_cn          cffi                more_itertools      sre_parse\n",
      "_codecs_hk          cgi                 mpmath              ssl\n",
      "_codecs_iso2022     cgitb               msgpack             sspi\n",
      "_codecs_jp          chardet             msilib              sspicon\n",
      "_codecs_kr          chunk               msvcrt              stat\n",
      "_codecs_tw          click               multipledispatch    statistics\n",
      "_collections        cloudpickle         multiprocessing     statsmodels\n",
      "_collections_abc    clyent              nacl                storemagic\n",
      "_compat_pickle      cmath               navigator_updater   string\n",
      "_compression        cmd                 nbclient            stringprep\n",
      "_contextvars        code                nbconvert           struct\n",
      "_csv                codecs              nbformat            subprocess\n",
      "_ctypes             codeop              nest_asyncio        sunau\n",
      "_ctypes_test        collections         netbios             symbol\n",
      "_datetime           colorama            netrc               sympy\n",
      "_decimal            colorsys            networkx            sympyprinting\n",
      "_distutils_hack     commctrl            nltk                symtable\n",
      "_dummy_thread       compileall          nntplib             sys\n",
      "_elementtree        comtypes            nose                sysconfig\n",
      "_functools          concurrent          notebook            tables\n",
      "_hashlib            conda               nt                  tabnanny\n",
      "_heapq              conda_build         ntpath              tarfile\n",
      "_imp                conda_env           ntsecuritycon       tblib\n",
      "_io                 conda_package_handling nturl2path          telnetlib\n",
      "_json               conda_verify        numba               tempfile\n",
      "_locale             configparser        numbers             terminado\n",
      "_lsprof             contextlib          numexpr             test\n",
      "_lzma               contextlib2         numpy               test_data\n",
      "_markupbase         contextvars         numpydoc            test_pycosat\n",
      "_md5                copy                odbc                testpath\n",
      "_msi                copyreg             olefile             tests\n",
      "_multibytecodec     crypt               opcode              textwrap\n",
      "_multiprocessing    cryptography        openpyxl            this\n",
      "_nsis               csv                 operator            threading\n",
      "_opcode             ctypes              optparse            threadpoolctl\n",
      "_operator           curl                os                  time\n",
      "_osx_support        curses              packaging           timeit\n",
      "_overlapped         cwp                 pandas              timer\n",
      "_pickle             cycler              pandocfilters       tkinter\n",
      "_py_abc             cython              paramiko            tlz\n",
      "_pydecimal          cythonmagic         parser              token\n",
      "_pyio               cytoolz             parso               tokenize\n",
      "_pyrsistent_version dask                partd               toml\n",
      "_pytest             dataclasses         past                toolz\n",
      "_queue              datetime            path                tornado\n",
      "_random             dateutil            pathlib             tqdm\n",
      "_sha1               dbi                 pathlib2            trace\n",
      "_sha256             dbm                 pathtools           traceback\n",
      "_sha3               dde                 patsy               tracemalloc\n",
      "_sha512             decimal             pdb                 traitlets\n",
      "_signal             decorator           pep8                tty\n",
      "_sitebuiltins       defusedxml          perfmon             turtle\n",
      "_socket             diff_match_patch    pexpect             turtledemo\n",
      "_sqlite3            difflib             pickle              types\n",
      "_sre                dis                 pickleshare         typing\n",
      "_ssl                distributed         pickletools         typing_extensions\n",
      "_stat               distutils           pip                 ujson\n",
      "_statistics         doctest             pipes               unicodecsv\n",
      "_string             docutils            pkg_resources       unicodedata\n",
      "_strptime           dummy_threading     pkginfo             unittest\n",
      "_struct             easy_install        pkgutil             urllib\n",
      "_symtable           email               platform            urllib3\n",
      "_system_path        encodings           plistlib            uu\n",
      "_testbuffer         ensurepip           pluggy              uuid\n",
      "_testcapi           entrypoints         ply                 venv\n",
      "_testconsole        enum                poplib              warnings\n",
      "_testimportmultiple errno               posixpath           watchdog\n",
      "_testinternalcapi   et_xmlfile          pprint              wave\n",
      "_testmultiphase     fastcache           profile             wcwidth\n",
      "_thread             faulthandler        prometheus_client   weakref\n",
      "_threading_local    filecmp             prompt_toolkit      webbrowser\n",
      "_tkinter            fileinput           pstats              webencodings\n",
      "_tracemalloc        filelock            psutil              werkzeug\n",
      "_warnings           flake8              pty                 wheel\n",
      "_weakref            flask               pvectorc            widgetsnbextension\n",
      "_weakrefset         fnmatch             py                  win2kras\n",
      "_win32sysloader     formatter           py_compile          win32api\n",
      "_winapi             fractions           pyclbr              win32clipboard\n",
      "_winxptheme         fsspec              pycodestyle         win32com\n",
      "_xxsubinterpreters  ftplib              pycosat             win32con\n",
      "_yaml               functools           pycparser           win32console\n",
      "abc                 future              pycurl              win32cred\n",
      "adodbapi            gc                  pydoc               win32crypt\n",
      "afxres              genericpath         pydoc_data          win32cryptcon\n",
      "aifc                getopt              pydocstyle          win32ctypes\n",
      "alabaster           getpass             pyexpat             win32event\n",
      "anaconda_navigator  gettext             pyflakes            win32evtlog\n",
      "anaconda_project    gevent              pygments            win32evtlogutil\n",
      "antigravity         glob                pylab               win32file\n",
      "argh                glob2               pylint              win32gui\n",
      "argon2              greenlet            pyls                win32gui_struct\n",
      "argparse            gzip                pyls_jsonrpc        win32help\n",
      "array               h5py                pyodbc              win32inet\n",
      "asn1crypto          hashlib             pyparsing           win32inetcon\n",
      "ast                 heapdict            pyreadline          win32job\n",
      "astroid             heapq               pyrsistent          win32lz\n",
      "astropy             hmac                pytest              win32net\n",
      "async_generator     html                pythoncom           win32netcon\n",
      "asynchat            html5lib            pytz                win32pdh\n",
      "asyncio             http                pywin               win32pdhquery\n",
      "asyncore            idlelib             pywin32_bootstrap   win32pdhutil\n",
      "atexit              idna                pywin32_testutil    win32pipe\n",
      "atomicwrites        imageio             pywintypes          win32print\n",
      "attr                imagesize           pywt                win32process\n",
      "audioop             imaplib             pyximport           win32profile\n",
      "autopep8            imghdr              qdarkstyle          win32ras\n",
      "autoreload          imp                 qtawesome           win32rcparser\n",
      "babel               importlib           qtconsole           win32security\n",
      "backcall            importlib_metadata  qtpy                win32service\n",
      "backports           iniconfig           queue               win32serviceutil\n",
      "base64              inspect             quopri              win32timezone\n",
      "bcrypt              intervaltree        random              win32trace\n",
      "bdb                 io                  rasutil             win32traceutil\n",
      "binascii            ipaddress           re                  win32transaction\n",
      "binhex              ipykernel           readline            win32ts\n",
      "binstar_client      ipykernel_launcher  regcheck            win32ui\n",
      "bisect              ipython_genutils    regex               win32uiole\n",
      "bitarray            ipywidgets          regutil             win32verstamp\n",
      "bkcharts            isapi               reprlib             win32wnet\n",
      "bleach              isort               requests            win_inet_pton\n",
      "bokeh               isympy              rlcompleter         win_unicode_console\n",
      "boto                itertools           rmagic              wincertstore\n",
      "bottleneck          itsdangerous        rope                winerror\n",
      "brain_argparse      jdcal               rtree               winioctlcon\n",
      "brain_attrs         jedi                ruamel_yaml         winnt\n",
      "brain_boto3         jinja2              run                 winperf\n",
      "brain_builtin_inference joblib              runpy               winpty\n",
      "brain_collections   json                sample1             winreg\n",
      "brain_crypt         json5               sched               winsound\n",
      "brain_curses        jsonschema          scipy               winxpgui\n",
      "brain_dataclasses   jupyter             scripts             winxptheme\n",
      "brain_dateutil      jupyter_client      seaborn             wrapt\n",
      "brain_fstrings      jupyter_console     secrets             wsgiref\n",
      "brain_functools     jupyter_core        select              xdrlib\n",
      "brain_gi            jupyterlab          selectors           xlrd\n",
      "brain_hashlib       jupyterlab_pygments send2trash          xlsxwriter\n",
      "brain_http          jupyterlab_server   servicemanager      xlwings\n",
      "brain_io            keyring             setuptools          xlwt\n",
      "brain_mechanize     keyword             shelve              xml\n",
      "brain_multiprocessing kiwisolver          shlex               xmlrpc\n",
      "brain_namedtuple_enum lazy_object_proxy   shutil              xmltodict\n",
      "brain_nose          lib2to3             signal              xxsubtype\n",
      "brain_numpy_core_fromnumeric libarchive          simplegeneric       yaml\n",
      "brain_numpy_core_function_base libfuturize         singledispatch      yapf\n",
      "brain_numpy_core_multiarray libpasteurize       singledispatch_helpers yapftests\n",
      "brain_numpy_core_numeric lief                sip                 zict\n",
      "brain_numpy_core_numerictypes linecache           sipconfig           zipapp\n",
      "brain_numpy_core_umath llvmlite            sipdistutils        zipfile\n",
      "brain_numpy_ndarray locale              site                zipimport\n",
      "brain_numpy_random_mtrand locket              six                 zipp\n",
      "brain_numpy_utils   logging             skimage             zlib\n",
      "brain_pkg_resources lxml                sklearn             zmq\n",
      "brain_pytest        lzma                smtpd               zope\n",
      "brain_qt            mailbox             smtplib             \n",
      "brain_random        mailcap             sndhdr              \n",
      "brain_re            markupsafe          snowballstemmer     \n",
      "\n",
      "Enter any module name to get more help.  Or, type \"modules spam\" to search\n",
      "for modules whose name or summary contain the string \"spam\".\n",
      "\n"
     ]
    }
   ],
   "source": [
    "help()"
   ]
  },
  {
   "cell_type": "code",
   "execution_count": 1,
   "metadata": {},
   "outputs": [
    {
     "data": {
      "text/plain": [
       "True"
      ]
     },
     "execution_count": 1,
     "metadata": {},
     "output_type": "execute_result"
    }
   ],
   "source": [
    "import webbrowser\n",
    "webbrowser.open('www.google.com')\n"
   ]
  },
  {
   "cell_type": "code",
   "execution_count": 2,
   "metadata": {},
   "outputs": [
    {
     "data": {
      "text/plain": [
       "'Thu Apr 15 12:24:40 2021'"
      ]
     },
     "execution_count": 2,
     "metadata": {},
     "output_type": "execute_result"
    }
   ],
   "source": [
    "import time\n",
    "time.ctime()"
   ]
  },
  {
   "cell_type": "markdown",
   "metadata": {},
   "source": [
    "### operators in python\n",
    "* Arithimetic operators\n",
    "* Assignment operators\n",
    "* Comparision operators\n",
    "* Logical operators\n",
    "* Membership operators\n",
    "* identity operators\n",
    "* Bitwise operators"
   ]
  },
  {
   "cell_type": "code",
   "execution_count": 6,
   "metadata": {},
   "outputs": [
    {
     "name": "stdout",
     "output_type": "stream",
     "text": [
      "10\n",
      "5\n",
      "addition  15\n",
      " subraction 5\n",
      "multiplication 50\n",
      "float division 2.0\n",
      "floor division 2\n",
      "modulo division 0\n",
      "power 100000\n"
     ]
    }
   ],
   "source": [
    "###arithemitic operators\n",
    "# dynamic\n",
    "a=int(input())\n",
    "b=int(input())\n",
    "c=a+b\n",
    "d=a-b\n",
    "e=a*b\n",
    "f=a/b\n",
    "g=a//b\n",
    "h=a%b\n",
    "i=a**b\n",
    "print(\"addition \",c)\n",
    "print(\" subraction\",d)\n",
    "print(\"multiplication\",e)\n",
    "print(\"float division\",f)\n",
    "print(\"floor division\",g)\n",
    "print(\"modulo division\",h)\n",
    "print(\"power\",i)"
   ]
  },
  {
   "cell_type": "code",
   "execution_count": 12,
   "metadata": {},
   "outputs": [
    {
     "name": "stdout",
     "output_type": "stream",
     "text": [
      "5\n",
      "6\n",
      "True\n",
      "False\n",
      "False\n",
      "True\n",
      "True\n",
      "False\n"
     ]
    }
   ],
   "source": [
    "#comparision operators\n",
    "# dynamic\n",
    "a=int(input())\n",
    "b=int(input())\n",
    "c=a<b\n",
    "d=a>b\n",
    "e=a==b\n",
    "f=a!=b\n",
    "g=a<=b\n",
    "h=a>=b\n",
    "print(c)\n",
    "print(d)\n",
    "print(e)\n",
    "print(f)\n",
    "print(g)\n",
    "print(h)"
   ]
  },
  {
   "cell_type": "code",
   "execution_count": 7,
   "metadata": {},
   "outputs": [
    {
     "name": "stdout",
     "output_type": "stream",
     "text": [
      "23\n"
     ]
    }
   ],
   "source": [
    "#assignment operarators\n",
    "x=20\n",
    "x+=3\n",
    "print(x)"
   ]
  },
  {
   "cell_type": "code",
   "execution_count": 8,
   "metadata": {},
   "outputs": [
    {
     "name": "stdout",
     "output_type": "stream",
     "text": [
      "19\n"
     ]
    }
   ],
   "source": [
    "x-=4\n",
    "print(x)"
   ]
  },
  {
   "cell_type": "code",
   "execution_count": 9,
   "metadata": {},
   "outputs": [
    {
     "name": "stdout",
     "output_type": "stream",
     "text": [
      "57\n"
     ]
    }
   ],
   "source": [
    "x*=3\n",
    "print(x)"
   ]
  },
  {
   "cell_type": "code",
   "execution_count": 10,
   "metadata": {},
   "outputs": [
    {
     "name": "stdout",
     "output_type": "stream",
     "text": [
      "11.4\n"
     ]
    }
   ],
   "source": [
    "x/=5\n",
    "print(x)"
   ]
  },
  {
   "cell_type": "code",
   "execution_count": 11,
   "metadata": {},
   "outputs": [
    {
     "name": "stdout",
     "output_type": "stream",
     "text": [
      "2.4000000000000004\n"
     ]
    }
   ],
   "source": [
    "x%=3\n",
    "print(x)"
   ]
  },
  {
   "cell_type": "code",
   "execution_count": 14,
   "metadata": {},
   "outputs": [
    {
     "name": "stdout",
     "output_type": "stream",
     "text": [
      "False\n",
      "True\n",
      "False\n",
      "False\n",
      "True\n",
      "True\n",
      "True\n",
      "False\n"
     ]
    }
   ],
   "source": [
    "#logical operators(and,or,not)\n",
    "print(True and False)\n",
    "print(True and True)\n",
    "print(False and True)\n",
    "print(False and False)\n",
    "print(True or False)\n",
    "print(True or True)\n",
    "print(False or True)\n",
    "print(False or False)"
   ]
  },
  {
   "cell_type": "code",
   "execution_count": 18,
   "metadata": {},
   "outputs": [
    {
     "data": {
      "text/plain": [
       "True"
      ]
     },
     "execution_count": 18,
     "metadata": {},
     "output_type": "execute_result"
    }
   ],
   "source": [
    "#membership operators(in,not in)\n",
    "a=\"python\"\n",
    "'p' in a"
   ]
  },
  {
   "cell_type": "code",
   "execution_count": 19,
   "metadata": {},
   "outputs": [
    {
     "data": {
      "text/plain": [
       "True"
      ]
     },
     "execution_count": 19,
     "metadata": {},
     "output_type": "execute_result"
    }
   ],
   "source": [
    "'s' not in a"
   ]
  },
  {
   "cell_type": "code",
   "execution_count": 20,
   "metadata": {},
   "outputs": [
    {
     "data": {
      "text/plain": [
       "False"
      ]
     },
     "execution_count": 20,
     "metadata": {},
     "output_type": "execute_result"
    }
   ],
   "source": [
    "'c'in a"
   ]
  },
  {
   "cell_type": "code",
   "execution_count": 23,
   "metadata": {},
   "outputs": [
    {
     "data": {
      "text/plain": [
       "True"
      ]
     },
     "execution_count": 23,
     "metadata": {},
     "output_type": "execute_result"
    }
   ],
   "source": [
    "# identity operators(is,is not)\n",
    "a=10\n",
    "b=5\n",
    "a is not b"
   ]
  },
  {
   "cell_type": "code",
   "execution_count": 24,
   "metadata": {},
   "outputs": [
    {
     "data": {
      "text/plain": [
       "True"
      ]
     },
     "execution_count": 24,
     "metadata": {},
     "output_type": "execute_result"
    }
   ],
   "source": [
    "a=[10,20,30]\n",
    "b=[35,25,15]\n",
    "a is not b"
   ]
  },
  {
   "cell_type": "code",
   "execution_count": 25,
   "metadata": {},
   "outputs": [
    {
     "data": {
      "text/plain": [
       "'0b111'"
      ]
     },
     "execution_count": 25,
     "metadata": {},
     "output_type": "execute_result"
    }
   ],
   "source": [
    "#Bitwise operators(&,|,<<,>>)\n",
    "bin(7)"
   ]
  },
  {
   "cell_type": "code",
   "execution_count": 26,
   "metadata": {},
   "outputs": [
    {
     "data": {
      "text/plain": [
       "5"
      ]
     },
     "execution_count": 26,
     "metadata": {},
     "output_type": "execute_result"
    }
   ],
   "source": [
    "0b0111 & 0b0101"
   ]
  },
  {
   "cell_type": "code",
   "execution_count": 27,
   "metadata": {},
   "outputs": [
    {
     "data": {
      "text/plain": [
       "7"
      ]
     },
     "execution_count": 27,
     "metadata": {},
     "output_type": "execute_result"
    }
   ],
   "source": [
    "0b0111 | 0b0101"
   ]
  },
  {
   "cell_type": "code",
   "execution_count": 28,
   "metadata": {},
   "outputs": [
    {
     "data": {
      "text/plain": [
       "7"
      ]
     },
     "execution_count": 28,
     "metadata": {},
     "output_type": "execute_result"
    }
   ],
   "source": [
    "7| 5"
   ]
  },
  {
   "cell_type": "code",
   "execution_count": 31,
   "metadata": {},
   "outputs": [
    {
     "data": {
      "text/plain": [
       "56"
      ]
     },
     "execution_count": 31,
     "metadata": {},
     "output_type": "execute_result"
    }
   ],
   "source": [
    "7<<3"
   ]
  },
  {
   "cell_type": "code",
   "execution_count": 32,
   "metadata": {},
   "outputs": [
    {
     "data": {
      "text/plain": [
       "0"
      ]
     },
     "execution_count": 32,
     "metadata": {},
     "output_type": "execute_result"
    }
   ],
   "source": [
    "7>>3\n"
   ]
  },
  {
   "cell_type": "code",
   "execution_count": 33,
   "metadata": {},
   "outputs": [
    {
     "ename": "NameError",
     "evalue": "name 'codition' is not defined",
     "output_type": "error",
     "traceback": [
      "\u001b[1;31m---------------------------------------------------------------------------\u001b[0m",
      "\u001b[1;31mNameError\u001b[0m                                 Traceback (most recent call last)",
      "\u001b[1;32m<ipython-input-33-d1b51acb1618>\u001b[0m in \u001b[0;36m<module>\u001b[1;34m\u001b[0m\n\u001b[0;32m      1\u001b[0m \u001b[1;31m### Coniditional statements\u001b[0m\u001b[1;33m\u001b[0m\u001b[1;33m\u001b[0m\u001b[1;33m\u001b[0m\u001b[0m\n\u001b[0;32m      2\u001b[0m \u001b[1;31m# syntax\u001b[0m\u001b[1;33m\u001b[0m\u001b[1;33m\u001b[0m\u001b[1;33m\u001b[0m\u001b[0m\n\u001b[1;32m----> 3\u001b[1;33m \u001b[1;32mif\u001b[0m \u001b[0mcodition\u001b[0m\u001b[1;33m:\u001b[0m\u001b[1;33m\u001b[0m\u001b[1;33m\u001b[0m\u001b[0m\n\u001b[0m\u001b[0;32m      4\u001b[0m     \u001b[0mstatemens\u001b[0m\u001b[1;33m\u001b[0m\u001b[1;33m\u001b[0m\u001b[0m\n\u001b[0;32m      5\u001b[0m \u001b[1;33m\u001b[0m\u001b[0m\n",
      "\u001b[1;31mNameError\u001b[0m: name 'codition' is not defined"
     ]
    }
   ],
   "source": [
    "### Coniditional statements\n",
    "# syntax\n",
    "if codition:\n",
    "    statemens\n",
    "    "
   ]
  },
  {
   "cell_type": "code",
   "execution_count": 2,
   "metadata": {},
   "outputs": [
    {
     "name": "stdout",
     "output_type": "stream",
     "text": [
      "6\n",
      "6 postive number\n"
     ]
    }
   ],
   "source": [
    "a=int(input())\n",
    "if a>0:\n",
    "    print(a,\"postive number\")"
   ]
  },
  {
   "cell_type": "markdown",
   "metadata": {},
   "source": []
  },
  {
   "cell_type": "code",
   "execution_count": 3,
   "metadata": {},
   "outputs": [
    {
     "name": "stdout",
     "output_type": "stream",
     "text": [
      "5\n",
      "5 odd number\n"
     ]
    }
   ],
   "source": [
    "## even or odd\n",
    "a=int(input())\n",
    "if a%2==0:\n",
    "    print(a,\"even number\")\n",
    "else:\n",
    "    print(a,\"odd number\")"
   ]
  },
  {
   "cell_type": "code",
   "execution_count": 2,
   "metadata": {},
   "outputs": [
    {
     "name": "stdout",
     "output_type": "stream",
     "text": [
      "enter year: 2016\n",
      "2016 is the leap year\n"
     ]
    }
   ],
   "source": [
    "##leap year or not\n",
    "year=int(input('enter year: '))\n",
    "if year%4==0 and year%100!=0:\n",
    "    print(year,\"is the leap year\")\n",
    "elif year%100==0:\n",
    "    print(year,\"is not a leap year\")\n",
    "elif year%400==0:\n",
    "    print(year,\"is a leap year\")\n",
    "else:\n",
    "    print(year,\"is a not leap year\")\n",
    "    \n"
   ]
  },
  {
   "cell_type": "code",
   "execution_count": 9,
   "metadata": {},
   "outputs": [
    {
     "name": "stdout",
     "output_type": "stream",
     "text": [
      "enter stringA\n",
      "A vowel\n"
     ]
    }
   ],
   "source": [
    "# vowel or not\n",
    "n=input(\"enter string\")\n",
    "i=['a','e','i','o','u','A','E','I','O','U']\n",
    "if n in i:\n",
    "    print(n,\"vowel\")\n",
    "else:\n",
    "    print(n,\"not a vowel\")"
   ]
  },
  {
   "cell_type": "code",
   "execution_count": 3,
   "metadata": {},
   "outputs": [
    {
     "name": "stdout",
     "output_type": "stream",
     "text": [
      "5\n",
      "6\n",
      "7\n",
      "c is largest\n"
     ]
    }
   ],
   "source": [
    "# largest of three numbers\n",
    "a=int(input())\n",
    "b=int(input())\n",
    "c=int(input())\n",
    "if(a>b and a>c):\n",
    "    print(\"a is largest\")\n",
    "elif(b>c):\n",
    "    print(\"b is largest\")\n",
    "else:\n",
    "    print(\"c is largest\")"
   ]
  },
  {
   "cell_type": "code",
   "execution_count": 2,
   "metadata": {},
   "outputs": [
    {
     "name": "stdout",
     "output_type": "stream",
     "text": [
      "jyothi\n",
      "jyothi\n",
      "not valid\n"
     ]
    }
   ],
   "source": [
    "#user name and password\n",
    "username=input()\n",
    "password=input()\n",
    "if(username=='kalyani' and password=='kalyani'):\n",
    "    print(\"valid\")\n",
    "else:\n",
    "    print(\"not valid\")"
   ]
  },
  {
   "cell_type": "code",
   "execution_count": 6,
   "metadata": {},
   "outputs": [
    {
     "name": "stdout",
     "output_type": "stream",
     "text": [
      "5\n",
      "6\n",
      "enter choice: 1\n",
      "11\n"
     ]
    }
   ],
   "source": [
    "a=int(input())\n",
    "b=int(input())\n",
    "choice=int(input(\"enter choice: \"))\n",
    "if choice==1:\n",
    "    print(a+b)\n",
    "elif choice==2:\n",
    "    print(a-b)\n",
    "elif choice==3:\n",
    "    print(a*b)\n",
    "elif choice==4:\n",
    "    print(a/b)\n",
    "elif choice==5:\n",
    "    print(a//b)\n",
    "else:\n",
    "    print(a**b)"
   ]
  },
  {
   "cell_type": "code",
   "execution_count": null,
   "metadata": {},
   "outputs": [],
   "source": []
  }
 ],
 "metadata": {
  "kernelspec": {
   "display_name": "Python 3",
   "language": "python",
   "name": "python3"
  },
  "language_info": {
   "codemirror_mode": {
    "name": "ipython",
    "version": 3
   },
   "file_extension": ".py",
   "mimetype": "text/x-python",
   "name": "python",
   "nbconvert_exporter": "python",
   "pygments_lexer": "ipython3",
   "version": "3.8.5"
  }
 },
 "nbformat": 4,
 "nbformat_minor": 4
}
