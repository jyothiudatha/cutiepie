{
 "cells": [
  {
   "cell_type": "code",
   "execution_count": 7,
   "metadata": {},
   "outputs": [
    {
     "name": "stdout",
     "output_type": "stream",
     "text": [
      "enter student count50\n",
      "enter lower range0\n",
      "enter upper range100\n"
     ]
    }
   ],
   "source": [
    "from random import randint\n",
    "def marksgen(n,lb,ub):\n",
    "    with open('datafiles/marks.txt','w') as f:\n",
    "        for i in range(0,n):\n",
    "            r=randint(lb,ub)\n",
    "            f.write(str(r)+'\\n')\n",
    "    return    \n",
    "n=int(input(\"enter student count\"))\n",
    "lb=int(input(\"enter lower range\"))\n",
    "ub=int(input(\"enter upper range\"))\n",
    "marksgen(n,lb,ub)"
   ]
  },
  {
   "cell_type": "code",
   "execution_count": 8,
   "metadata": {},
   "outputs": [
    {
     "name": "stdout",
     "output_type": "stream",
     "text": [
      "20\n",
      "84\n",
      "145\n",
      "208\n",
      "299\n",
      "339\n",
      "424\n",
      "519\n",
      "576\n",
      "611\n",
      "645\n",
      "720\n",
      "722\n",
      "747\n",
      "753\n",
      "810\n",
      "844\n",
      "927\n",
      "1018\n",
      "1106\n",
      "1135\n",
      "1149\n",
      "1197\n",
      "1289\n",
      "1293\n",
      "1350\n",
      "1371\n",
      "1429\n",
      "1448\n",
      "1466\n",
      "1566\n",
      "1619\n",
      "1699\n",
      "1748\n",
      "1805\n",
      "1847\n",
      "1866\n",
      "1908\n",
      "2005\n",
      "2083\n",
      "2124\n",
      "2171\n",
      "2217\n",
      "2284\n",
      "2354\n",
      "2419\n",
      "2518\n",
      "2572\n",
      "2583\n",
      "2640\n",
      "52.8\n"
     ]
    }
   ],
   "source": [
    "#class average\n",
    "with open('datafiles/marks.txt') as f:\n",
    "    data=f.read()\n",
    "    marks=data.split()\n",
    "    sum=0\n",
    "    for mark in marks:\n",
    "        sum+=int(mark)\n",
    "        print(sum)\n",
    "    print(sum/len(marks))    "
   ]
  },
  {
   "cell_type": "code",
   "execution_count": 10,
   "metadata": {},
   "outputs": [
    {
     "name": "stdout",
     "output_type": "stream",
     "text": [
      "1800.0\n"
     ]
    }
   ],
   "source": [
    "#pass percentage\n",
    "with open('datafiles/marks.txt') as f:\n",
    "    data=f.read()\n",
    "    marks=data.split()\n",
    "    pc=0\n",
    "    for marks in marks:\n",
    "        if int(marks)>=35:\n",
    "            pc+=1\n",
    "    print(pc/len(marks)*100)        "
   ]
  },
  {
   "cell_type": "code",
   "execution_count": 11,
   "metadata": {},
   "outputs": [
    {
     "name": "stdout",
     "output_type": "stream",
     "text": [
      "1\n",
      "1\n"
     ]
    }
   ],
   "source": [
    "#least marks\n",
    "print(marks.count(max(marks)))\n",
    "print(marks.count(min(marks)))"
   ]
  },
  {
   "cell_type": "code",
   "execution_count": 13,
   "metadata": {},
   "outputs": [
    {
     "name": "stdout",
     "output_type": "stream",
     "text": [
      "10\n",
      "python\n",
      "online\n",
      "program\n",
      "20\n",
      "89.5\n"
     ]
    }
   ],
   "source": [
    "#variable length\n",
    "def varlen(num,*args):\n",
    "    num=10\n",
    "    print(num)\n",
    "    for a in args:\n",
    "        print(a)\n",
    "varlen(10,'python','online','program',20,89.5)        "
   ]
  },
  {
   "cell_type": "code",
   "execution_count": 14,
   "metadata": {},
   "outputs": [
    {
     "name": "stdout",
     "output_type": "stream",
     "text": [
      "['__class__', '__contains__', '__delattr__', '__delitem__', '__dir__', '__doc__', '__eq__', '__format__', '__ge__', '__getattribute__', '__getitem__', '__gt__', '__hash__', '__init__', '__init_subclass__', '__iter__', '__le__', '__len__', '__lt__', '__ne__', '__new__', '__reduce__', '__reduce_ex__', '__repr__', '__reversed__', '__setattr__', '__setitem__', '__sizeof__', '__str__', '__subclasshook__', 'clear', 'copy', 'fromkeys', 'get', 'items', 'keys', 'pop', 'popitem', 'setdefault', 'update', 'values']\n"
     ]
    }
   ],
   "source": [
    "print(dir(dict))"
   ]
  },
  {
   "cell_type": "code",
   "execution_count": null,
   "metadata": {},
   "outputs": [],
   "source": [
    "def varlen(num,*args)\n",
    "name=narmada\n",
    "print(name)\n",
    "for n in args:"
   ]
  },
  {
   "cell_type": "code",
   "execution_count": 22,
   "metadata": {},
   "outputs": [
    {
     "name": "stdout",
     "output_type": "stream",
     "text": [
      "('branch', 'cse')\n"
     ]
    }
   ],
   "source": [
    "d={'clg':'vignan','branch':'cse'}\n",
    "print(d.popitem())"
   ]
  },
  {
   "cell_type": "code",
   "execution_count": 25,
   "metadata": {},
   "outputs": [
    {
     "name": "stdout",
     "output_type": "stream",
     "text": [
      "('clg', 'vignn')\n"
     ]
    }
   ],
   "source": [
    "l={'name':'narmada','class':'btech','clg':'vignn'}\n",
    "print(l.popitem())"
   ]
  },
  {
   "cell_type": "code",
   "execution_count": 26,
   "metadata": {},
   "outputs": [
    {
     "data": {
      "text/plain": [
       "'python'"
      ]
     },
     "execution_count": 26,
     "metadata": {},
     "output_type": "execute_result"
    }
   ],
   "source": [
    "d.setdefault('prog','python')"
   ]
  },
  {
   "cell_type": "code",
   "execution_count": 27,
   "metadata": {},
   "outputs": [
    {
     "data": {
      "text/plain": [
       "{'clg': 'vignan', 'prog': 'python'}"
      ]
     },
     "execution_count": 27,
     "metadata": {},
     "output_type": "execute_result"
    }
   ],
   "source": [
    "d"
   ]
  },
  {
   "cell_type": "code",
   "execution_count": 31,
   "metadata": {},
   "outputs": [],
   "source": [
    "\n",
    "d.update({'program':'python'})"
   ]
  },
  {
   "cell_type": "code",
   "execution_count": 30,
   "metadata": {},
   "outputs": [
    {
     "data": {
      "text/plain": [
       "{'clg': 'vignan', 'prog': 'python', 'program': 'python'}"
      ]
     },
     "execution_count": 30,
     "metadata": {},
     "output_type": "execute_result"
    }
   ],
   "source": [
    "d"
   ]
  },
  {
   "cell_type": "code",
   "execution_count": 33,
   "metadata": {},
   "outputs": [
    {
     "data": {
      "text/plain": [
       "{'key1': None, 'key2': None}"
      ]
     },
     "execution_count": 33,
     "metadata": {},
     "output_type": "execute_result"
    }
   ],
   "source": [
    "#fromkeys\n",
    "#fromkeys(sequence,value)\n",
    "t=('key1','key2')\n",
    "d=dict.fromkeys(t)\n",
    "d"
   ]
  },
  {
   "cell_type": "code",
   "execution_count": 35,
   "metadata": {},
   "outputs": [
    {
     "data": {
      "text/plain": [
       "{'key1': 10, 'key2': 10}"
      ]
     },
     "execution_count": 35,
     "metadata": {},
     "output_type": "execute_result"
    }
   ],
   "source": [
    "t1=('key1','key2')\n",
    "d1=dict.fromkeys(t,10)\n",
    "d1"
   ]
  },
  {
   "cell_type": "code",
   "execution_count": 36,
   "metadata": {},
   "outputs": [
    {
     "name": "stdout",
     "output_type": "stream",
     "text": [
      "['__and__', '__class__', '__contains__', '__delattr__', '__dir__', '__doc__', '__eq__', '__format__', '__ge__', '__getattribute__', '__gt__', '__hash__', '__iand__', '__init__', '__init_subclass__', '__ior__', '__isub__', '__iter__', '__ixor__', '__le__', '__len__', '__lt__', '__ne__', '__new__', '__or__', '__rand__', '__reduce__', '__reduce_ex__', '__repr__', '__ror__', '__rsub__', '__rxor__', '__setattr__', '__sizeof__', '__str__', '__sub__', '__subclasshook__', '__xor__', 'add', 'clear', 'copy', 'difference', 'difference_update', 'discard', 'intersection', 'intersection_update', 'isdisjoint', 'issubset', 'issuperset', 'pop', 'remove', 'symmetric_difference', 'symmetric_difference_update', 'union', 'update']\n"
     ]
    }
   ],
   "source": [
    "print(dir(set))"
   ]
  },
  {
   "cell_type": "code",
   "execution_count": 37,
   "metadata": {},
   "outputs": [
    {
     "name": "stdout",
     "output_type": "stream",
     "text": [
      "<class 'dict'>\n"
     ]
    }
   ],
   "source": [
    "k={}\n",
    "print(type(k))\n"
   ]
  },
  {
   "cell_type": "code",
   "execution_count": null,
   "metadata": {},
   "outputs": [],
   "source": [
    "#sets\n",
    "  *representd by{}\n",
    "  *doesn't allow duplicates\n",
    "  *unordered and unindexed "
   ]
  },
  {
   "cell_type": "code",
   "execution_count": 39,
   "metadata": {},
   "outputs": [
    {
     "data": {
      "text/plain": [
       "{1, 2, 3, 4, 5, 6}"
      ]
     },
     "execution_count": 39,
     "metadata": {},
     "output_type": "execute_result"
    }
   ],
   "source": [
    "l={1,2,3,4,5,6}\n",
    "set(l)"
   ]
  },
  {
   "cell_type": "code",
   "execution_count": 41,
   "metadata": {},
   "outputs": [
    {
     "data": {
      "text/plain": [
       "{'amani', 'narmada', 'sahithi', 'yamuna'}"
      ]
     },
     "execution_count": 41,
     "metadata": {},
     "output_type": "execute_result"
    }
   ],
   "source": [
    "n={'narmada','sahithi','yamuna','amani'}\n",
    "set(n)"
   ]
  },
  {
   "cell_type": "code",
   "execution_count": 44,
   "metadata": {},
   "outputs": [
    {
     "name": "stdout",
     "output_type": "stream",
     "text": [
      "no\n"
     ]
    }
   ],
   "source": [
    "if  7 in l:\n",
    "    print(\"yes\")\n",
    "else:\n",
    "    print(\"no\")"
   ]
  },
  {
   "cell_type": "code",
   "execution_count": 84,
   "metadata": {},
   "outputs": [
    {
     "name": "stdout",
     "output_type": "stream",
     "text": [
      "1\n",
      "2\n",
      "3\n",
      "4\n",
      "5\n",
      "6\n"
     ]
    }
   ],
   "source": [
    "n={1,2,3,4,5,6}\n",
    "for i in n:\n",
    "    print(i)"
   ]
  },
  {
   "cell_type": "code",
   "execution_count": 46,
   "metadata": {},
   "outputs": [
    {
     "data": {
      "text/plain": [
       "{1, 2, 3, 4, 6}"
      ]
     },
     "execution_count": 46,
     "metadata": {},
     "output_type": "execute_result"
    }
   ],
   "source": [
    "m={1,2,3,4}\n",
    "m.add(6)\n",
    "m"
   ]
  },
  {
   "cell_type": "code",
   "execution_count": 47,
   "metadata": {},
   "outputs": [
    {
     "data": {
      "text/plain": [
       "{1, 2, 3, 'a', 'b', 'c', 'n'}"
      ]
     },
     "execution_count": 47,
     "metadata": {},
     "output_type": "execute_result"
    }
   ],
   "source": [
    "n={'a',1,2,3,'b','c'}\n",
    "n.add('n')\n",
    "n"
   ]
  },
  {
   "cell_type": "code",
   "execution_count": 48,
   "metadata": {},
   "outputs": [
    {
     "data": {
      "text/plain": [
       "{1, 1.3, 2, 3, 4.5, 'n'}"
      ]
     },
     "execution_count": 48,
     "metadata": {},
     "output_type": "execute_result"
    }
   ],
   "source": [
    "n={1,2,3,4.5,1.3}\n",
    "n.add('n')\n",
    "n"
   ]
  },
  {
   "cell_type": "code",
   "execution_count": 49,
   "metadata": {},
   "outputs": [
    {
     "data": {
      "text/plain": [
       "{1, 2, 3, 5, 6, 'a', 'l', 'n'}"
      ]
     },
     "execution_count": 49,
     "metadata": {},
     "output_type": "execute_result"
    }
   ],
   "source": [
    "n={1,2,3,'a','n','l',6,5}\n",
    "n.update('n')\n",
    "n"
   ]
  },
  {
   "cell_type": "code",
   "execution_count": 51,
   "metadata": {},
   "outputs": [
    {
     "data": {
      "text/plain": [
       "'n'"
      ]
     },
     "execution_count": 51,
     "metadata": {},
     "output_type": "execute_result"
    }
   ],
   "source": [
    "n.pop()"
   ]
  },
  {
   "cell_type": "code",
   "execution_count": 74,
   "metadata": {},
   "outputs": [
    {
     "data": {
      "text/plain": [
       "{1, 2, 3, 'a', 'b'}"
      ]
     },
     "execution_count": 74,
     "metadata": {},
     "output_type": "execute_result"
    }
   ],
   "source": [
    "n={1,2,3,'a','b','c'}\n",
    "n.remove('c')\n",
    "n"
   ]
  },
  {
   "cell_type": "code",
   "execution_count": 72,
   "metadata": {},
   "outputs": [
    {
     "ename": "SyntaxError",
     "evalue": "EOL while scanning string literal (<ipython-input-72-281450924282>, line 1)",
     "output_type": "error",
     "traceback": [
      "\u001b[1;36m  File \u001b[1;32m\"<ipython-input-72-281450924282>\"\u001b[1;36m, line \u001b[1;32m1\u001b[0m\n\u001b[1;33m    n={2,3,6,1,5,7,'a,'b'}\u001b[0m\n\u001b[1;37m                          ^\u001b[0m\n\u001b[1;31mSyntaxError\u001b[0m\u001b[1;31m:\u001b[0m EOL while scanning string literal\n"
     ]
    }
   ],
   "source": [
    "n={2,3,6,1,5,7,'a,'b'}\n",
    "n.format()\n",
    "n"
   ]
  },
  {
   "cell_type": "code",
   "execution_count": 71,
   "metadata": {},
   "outputs": [
    {
     "data": {
      "text/plain": [
       "{1, 2, 3, 'b', 'c'}"
      ]
     },
     "execution_count": 71,
     "metadata": {},
     "output_type": "execute_result"
    }
   ],
   "source": [
    "n={1,2,3,'a','b','c'}\n",
    "n.remove('a')\n",
    "n"
   ]
  },
  {
   "cell_type": "code",
   "execution_count": 65,
   "metadata": {},
   "outputs": [
    {
     "name": "stdout",
     "output_type": "stream",
     "text": [
      "{9, 5, 7}\n",
      "set()\n"
     ]
    }
   ],
   "source": [
    "s1={1,2,3,4,5,7,9}\n",
    "s2={1,2,3,4}\n",
    "a=s1.difference(s2)\n",
    "b=s2.difference(s1)\n",
    "print(a)\n",
    "print(b)\n"
   ]
  },
  {
   "cell_type": "code",
   "execution_count": 66,
   "metadata": {},
   "outputs": [
    {
     "data": {
      "text/plain": [
       "{5, 7, 9}"
      ]
     },
     "execution_count": 66,
     "metadata": {},
     "output_type": "execute_result"
    }
   ],
   "source": [
    "d1={1,2,3,4,5,7,9}\n",
    "d2={1,2,3,4}\n",
    "d1.difference_update(d2)\n",
    "d1"
   ]
  },
  {
   "cell_type": "code",
   "execution_count": 68,
   "metadata": {},
   "outputs": [
    {
     "ename": "NameError",
     "evalue": "name 'difference' is not defined",
     "output_type": "error",
     "traceback": [
      "\u001b[1;31m---------------------------------------------------------------------------\u001b[0m",
      "\u001b[1;31mNameError\u001b[0m                                 Traceback (most recent call last)",
      "\u001b[1;32m<ipython-input-68-d71bc7840a6d>\u001b[0m in \u001b[0;36m<module>\u001b[1;34m\u001b[0m\n\u001b[1;32m----> 1\u001b[1;33m \u001b[0mdifference\u001b[0m\u001b[1;33m\u001b[0m\u001b[1;33m\u001b[0m\u001b[0m\n\u001b[0m\u001b[0;32m      2\u001b[0m \u001b[0mvariable\u001b[0m\u001b[1;33m=\u001b[0m\u001b[0mset1\u001b[0m\u001b[1;33m.\u001b[0m\u001b[0mdifference\u001b[0m\u001b[1;33m(\u001b[0m\u001b[0mset2\u001b[0m\u001b[1;33m)\u001b[0m\u001b[1;33m\u001b[0m\u001b[1;33m\u001b[0m\u001b[0m\n",
      "\u001b[1;31mNameError\u001b[0m: name 'difference' is not defined"
     ]
    }
   ],
   "source": [
    "-difference\n",
    "    -variable=set1.difference(set2)\n",
    "-difference update\n",
    "    -set1.difference_update(set2)\n"
   ]
  },
  {
   "cell_type": "code",
   "execution_count": 76,
   "metadata": {},
   "outputs": [
    {
     "data": {
      "text/plain": [
       "{1, 2, 3, 4}"
      ]
     },
     "execution_count": 76,
     "metadata": {},
     "output_type": "execute_result"
    }
   ],
   "source": [
    "d1={1,2,3,4,5,6,7}\n",
    "d2={1,2,3,4}\n",
    "d1.intersection_update(d2)\n",
    "d1"
   ]
  },
  {
   "cell_type": "code",
   "execution_count": 77,
   "metadata": {},
   "outputs": [
    {
     "name": "stdout",
     "output_type": "stream",
     "text": [
      "{9, 5, 7}\n",
      "{5, 7, 9}\n"
     ]
    }
   ],
   "source": [
    "s1={1,2,3,4,5,7,9}\n",
    "s2={1,2,3,4}\n",
    "a=s1.symmetric_difference(s2)\n",
    "b=s2.symmetric_difference(s1)\n",
    "print(a)\n",
    "print(b)\n"
   ]
  },
  {
   "cell_type": "code",
   "execution_count": 80,
   "metadata": {},
   "outputs": [],
   "source": [
    "s1.symmetric_difference_update(s2)\n"
   ]
  },
  {
   "cell_type": "code",
   "execution_count": 81,
   "metadata": {},
   "outputs": [
    {
     "data": {
      "text/plain": [
       "{1, 2, 3, 4}"
      ]
     },
     "execution_count": 81,
     "metadata": {},
     "output_type": "execute_result"
    }
   ],
   "source": [
    "s2"
   ]
  },
  {
   "cell_type": "code",
   "execution_count": 85,
   "metadata": {},
   "outputs": [
    {
     "data": {
      "text/plain": [
       "False"
      ]
     },
     "execution_count": 85,
     "metadata": {},
     "output_type": "execute_result"
    }
   ],
   "source": [
    "n1={1,2,3,4,5,6,}\n",
    "n2={1,2,3}\n",
    "n1.issubset(n2)\n",
    "\n",
    "\n"
   ]
  },
  {
   "cell_type": "code",
   "execution_count": 87,
   "metadata": {},
   "outputs": [
    {
     "name": "stdout",
     "output_type": "stream",
     "text": [
      "True\n",
      "True\n"
     ]
    }
   ],
   "source": [
    "s1={1,2,3,4,5,7,9}\n",
    "s2={1,2,3,4}\n",
    "a=s1.issuperset(s2)\n",
    "b=s2.issubset(s1)\n",
    "print(a)\n",
    "print(b)"
   ]
  },
  {
   "cell_type": "markdown",
   "metadata": {},
   "source": []
  },
  {
   "cell_type": "code",
   "execution_count": 89,
   "metadata": {},
   "outputs": [
    {
     "name": "stdout",
     "output_type": "stream",
     "text": [
      "False\n",
      "False\n"
     ]
    }
   ],
   "source": [
    "n1={1,2,3}\n",
    "n2={4,5,6}\n",
    "a=n1.issuperset(n2)\n",
    "b=n2.issubset(n1)\n",
    "print(a)\n",
    "print(b)"
   ]
  },
  {
   "cell_type": "code",
   "execution_count": 3,
   "metadata": {},
   "outputs": [
    {
     "name": "stdout",
     "output_type": "stream",
     "text": [
      "enter num3\n",
      "* * * * \n",
      "* * * \n",
      "* * \n",
      "* \n"
     ]
    }
   ],
   "source": [
    " range(0,n+1):\n",
    "    for j in range(n,i-1,-1)\n",
    "    n=int(input(\"enter num\"))\n",
    "        print('*',end=\" \")\n",
    "    print()    \n"
   ]
  },
  {
   "cell_type": "code",
   "execution_count": null,
   "metadata": {},
   "outputs": [],
   "source": [
    "n=int(input(\"enter num:\"))\n",
    "for i in range(l,n+1):\n",
    "    for j in range(1,i+1):\n",
    "        print('*',end=' ')\n",
    "    print(\"\\n\")  \n",
    "    \n",
    "for i in range(n,n+1):\n",
    "    for j in range(1,i+1):\n",
    "        print('*',end=' ')\n",
    "    print(\"\\n\")  \n",
    "     "
   ]
  },
  {
   "cell_type": "code",
   "execution_count": null,
   "metadata": {},
   "outputs": [],
   "source": [
    "#### object oriented programming language\n",
    "-class\n",
    "  -collection of variables and methods\n",
    "-syntax \n",
    "         -class classname:\n",
    "              '''documentaion'''\n",
    "            variables\n",
    "            methods\n",
    "-rules\n",
    "         -should be capital\n",
    "        -doesn't allow spaces\n",
    "        -doesn't allow keywords\n",
    "     2.object\n",
    "    \n",
    "    \n",
    "    3.constuctor\n",
    "    4.inheritance\n",
    "    5.packages and oops\n",
    "    "
   ]
  },
  {
   "cell_type": "code",
   "execution_count": 10,
   "metadata": {},
   "outputs": [
    {
     "name": "stdout",
     "output_type": "stream",
     "text": [
      "10\n",
      "from exmp function\n",
      "basic example\n"
     ]
    }
   ],
   "source": [
    " class exmp:\n",
    "        '''basic example'''\n",
    "        a=10\n",
    "        def exmp():\n",
    "            return 'from exmp function'\n",
    "print(exm.a)\n",
    "print(exm.exmp())\n",
    "print(exm.__doc__)\n"
   ]
  },
  {
   "cell_type": "code",
   "execution_count": 12,
   "metadata": {},
   "outputs": [
    {
     "name": "stdout",
     "output_type": "stream",
     "text": [
      "10\n",
      "from exmp function\n"
     ]
    },
    {
     "ename": "AttributeError",
     "evalue": "type object 'exm' has no attribute '_doc_'",
     "output_type": "error",
     "traceback": [
      "\u001b[1;31m---------------------------------------------------------------------------\u001b[0m",
      "\u001b[1;31mAttributeError\u001b[0m                            Traceback (most recent call last)",
      "\u001b[1;32m<ipython-input-12-d0ebbf649446>\u001b[0m in \u001b[0;36m<module>\u001b[1;34m\u001b[0m\n\u001b[0;32m      5\u001b[0m \u001b[0mprint\u001b[0m\u001b[1;33m(\u001b[0m\u001b[0mexm\u001b[0m\u001b[1;33m.\u001b[0m\u001b[0ma\u001b[0m\u001b[1;33m)\u001b[0m\u001b[1;33m\u001b[0m\u001b[1;33m\u001b[0m\u001b[0m\n\u001b[0;32m      6\u001b[0m \u001b[0mprint\u001b[0m\u001b[1;33m(\u001b[0m\u001b[0mexm\u001b[0m\u001b[1;33m.\u001b[0m\u001b[0mexmp\u001b[0m\u001b[1;33m(\u001b[0m\u001b[1;33m)\u001b[0m\u001b[1;33m)\u001b[0m\u001b[1;33m\u001b[0m\u001b[1;33m\u001b[0m\u001b[0m\n\u001b[1;32m----> 7\u001b[1;33m \u001b[0mprint\u001b[0m\u001b[1;33m(\u001b[0m\u001b[0mexm\u001b[0m\u001b[1;33m.\u001b[0m\u001b[0m_doc_\u001b[0m\u001b[1;33m)\u001b[0m\u001b[1;33m\u001b[0m\u001b[1;33m\u001b[0m\u001b[0m\n\u001b[0m",
      "\u001b[1;31mAttributeError\u001b[0m: type object 'exm' has no attribute '_doc_'"
     ]
    }
   ],
   "source": [
    "class exmp:\n",
    "    a=10\n",
    "    def exmp():\n",
    "        return 'from exmp function'\n",
    "print(exm.a)\n",
    "print(exm.exmp())\n",
    "print(exm._doc_)\n"
   ]
  },
  {
   "cell_type": "code",
   "execution_count": 15,
   "metadata": {},
   "outputs": [
    {
     "name": "stdout",
     "output_type": "stream",
     "text": [
      "factorial: 120\n"
     ]
    }
   ],
   "source": [
    "class A:\n",
    "    def factorial(self,a):\n",
    "        fact=1\n",
    "        for i in range(1,a+1):\n",
    "            fact=fact*i\n",
    "        print(\"factorial:\",fact)\n",
    "a=A()\n",
    "a.factorial(5)"
   ]
  },
  {
   "cell_type": "code",
   "execution_count": 17,
   "metadata": {},
   "outputs": [
    {
     "name": "stdout",
     "output_type": "stream",
     "text": [
      "enter a number6\n"
     ]
    },
    {
     "data": {
      "text/plain": [
       "'it is a perfect number'"
      ]
     },
     "execution_count": 17,
     "metadata": {},
     "output_type": "execute_result"
    }
   ],
   "source": [
    "class A:\n",
    "    def perfect(self,a):\n",
    "        sum=0\n",
    "        for i in range(1,a):\n",
    "            if a%i==0:\n",
    "                sum+=i\n",
    "        if sum==a:\n",
    "            return \"it is a perfect number\"\n",
    "        else:\n",
    "            return \"not a perfect number\"\n",
    "a=A()\n",
    "n=int(input(\"enter a number\"))\n",
    "a.perfect(n)"
   ]
  },
  {
   "cell_type": "code",
   "execution_count": 19,
   "metadata": {},
   "outputs": [
    {
     "data": {
      "text/plain": [
       "'not a prime number'"
      ]
     },
     "execution_count": 19,
     "metadata": {},
     "output_type": "execute_result"
    }
   ],
   "source": [
    "class A:\n",
    "    def prime(self,a):\n",
    "        count=0\n",
    "        for i in range(1,a+1):\n",
    "            if a%i==0:\n",
    "                count+=1\n",
    "        if count==2:\n",
    "            return \"it is a prime number\"\n",
    "        else:\n",
    "            return \"not a prime number\"\n",
    "a=A()\n",
    "a.prime(25)\n",
    "        \n",
    "        "
   ]
  },
  {
   "cell_type": "code",
   "execution_count": null,
   "metadata": {},
   "outputs": [],
   "source": []
  },
  {
   "cell_type": "code",
   "execution_count": 25,
   "metadata": {},
   "outputs": [
    {
     "ename": "SyntaxError",
     "evalue": "invalid syntax (<ipython-input-25-bcf9ca7e1102>, line 3)",
     "output_type": "error",
     "traceback": [
      "\u001b[1;36m  File \u001b[1;32m\"<ipython-input-25-bcf9ca7e1102>\"\u001b[1;36m, line \u001b[1;32m3\u001b[0m\n\u001b[1;33m    def__init__(self):\u001b[0m\n\u001b[1;37m                      ^\u001b[0m\n\u001b[1;31mSyntaxError\u001b[0m\u001b[1;31m:\u001b[0m invalid syntax\n"
     ]
    }
   ],
   "source": [
    "#constructor\n",
    "class nonparaCons():\n",
    "    def__init__(self):\n",
    "        print('using only self')\n",
    "    def show(name):\n",
    "        print('welcome..',name)\n",
    "np=nonparaCons()\n",
    "np.show()\n",
    "        "
   ]
  },
  {
   "cell_type": "code",
   "execution_count": null,
   "metadata": {},
   "outputs": [],
   "source": []
  }
 ],
 "metadata": {
  "kernelspec": {
   "display_name": "Python 3",
   "language": "python",
   "name": "python3"
  },
  "language_info": {
   "codemirror_mode": {
    "name": "ipython",
    "version": 3
   },
   "file_extension": ".py",
   "mimetype": "text/x-python",
   "name": "python",
   "nbconvert_exporter": "python",
   "pygments_lexer": "ipython3",
   "version": "3.8.5"
  }
 },
 "nbformat": 4,
 "nbformat_minor": 4
}
