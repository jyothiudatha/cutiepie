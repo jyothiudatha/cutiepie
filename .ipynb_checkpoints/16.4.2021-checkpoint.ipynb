{
 "cells": [
  {
   "cell_type": "markdown",
   "metadata": {},
   "source": [
    "### Loops\n",
    "# syntax of for loop\n",
    "for i in range ():\n",
    "    \n",
    "for i in variable_name:"
   ]
  },
  {
   "cell_type": "code",
   "execution_count": 2,
   "metadata": {},
   "outputs": [
    {
     "name": "stdout",
     "output_type": "stream",
     "text": [
      "0\n",
      "1\n",
      "2\n",
      "3\n",
      "4\n",
      "5\n",
      "6\n",
      "7\n",
      "8\n",
      "9\n"
     ]
    }
   ],
   "source": [
    "#print numbers(single parameter)\n",
    "for i in range(10):\n",
    "    print(i)"
   ]
  },
  {
   "cell_type": "code",
   "execution_count": 3,
   "metadata": {},
   "outputs": [
    {
     "name": "stdout",
     "output_type": "stream",
     "text": [
      "1\n",
      "2\n",
      "3\n",
      "4\n",
      "5\n",
      "6\n",
      "7\n",
      "8\n",
      "9\n",
      "10\n"
     ]
    }
   ],
   "source": [
    "#print numbers(2 parameters)\n",
    "for i in range(1,11):\n",
    "    print(i)"
   ]
  },
  {
   "cell_type": "code",
   "execution_count": 4,
   "metadata": {},
   "outputs": [
    {
     "name": "stdout",
     "output_type": "stream",
     "text": [
      "1\n",
      "3\n",
      "5\n",
      "7\n",
      "9\n"
     ]
    }
   ],
   "source": [
    "#print numbers(3 parameters)\n",
    "for i in range(1,11,2):\n",
    "    print(i)"
   ]
  },
  {
   "cell_type": "code",
   "execution_count": 6,
   "metadata": {},
   "outputs": [
    {
     "name": "stdout",
     "output_type": "stream",
     "text": [
      "1\n",
      "8\n",
      "2 4 6 "
     ]
    }
   ],
   "source": [
    "#print even numbers without step count\n",
    "a=int(input())\n",
    "b=int(input())\n",
    "for i in range(a,b):\n",
    "    if i%2==0:\n",
    "        print(i,end=\" \")"
   ]
  },
  {
   "cell_type": "code",
   "execution_count": 8,
   "metadata": {},
   "outputs": [
    {
     "name": "stdout",
     "output_type": "stream",
     "text": [
      "0\n",
      "11\n",
      "0 2 4 6 8 10 "
     ]
    }
   ],
   "source": [
    "#print even numbers with step count\n",
    "a=int(input())\n",
    "b=int(input())\n",
    "for i in range(a,b,2):\n",
    "    print(i,end=\" \")"
   ]
  },
  {
   "cell_type": "code",
   "execution_count": 8,
   "metadata": {},
   "outputs": [
    {
     "name": "stdout",
     "output_type": "stream",
     "text": [
      "10\n",
      "1 2 3 4 5 6 7 8 9 10 5.5\n"
     ]
    }
   ],
   "source": [
    "#print the sum and average of natural numbers\n",
    "n=int(input())\n",
    "sum1=0\n",
    "for i in range(1,n+1):\n",
    "    print(i,end=\" \")\n",
    "    sum1+=i\n",
    "avg=sum1/n\n",
    "print( avg)"
   ]
  },
  {
   "cell_type": "code",
   "execution_count": 15,
   "metadata": {},
   "outputs": [
    {
     "name": "stdout",
     "output_type": "stream",
     "text": [
      "3\n",
      "6\n",
      "3 4 5 6 4.5\n"
     ]
    }
   ],
   "source": [
    "#print sum and average from range of some given numbers\n",
    "a=int(input())\n",
    "n=int(input())\n",
    "sum1=0\n",
    "count=0\n",
    "for i in range(a,n+1):\n",
    "    print(i,end=\" \")\n",
    "    sum1+=i\n",
    "    count=count+1\n",
    "avg=sum1/count\n",
    "print( avg)"
   ]
  },
  {
   "cell_type": "code",
   "execution_count": 16,
   "metadata": {},
   "outputs": [
    {
     "name": "stdout",
     "output_type": "stream",
     "text": [
      "3\n",
      "11\n",
      "28\n",
      "7.0\n"
     ]
    }
   ],
   "source": [
    "#print sum and average of even numbers\n",
    "a=int(input())\n",
    "n=int(input())\n",
    "sum1=0\n",
    "count=0\n",
    "for i in range(a,n+1):\n",
    "    if i%2==0:\n",
    "        sum1+=i\n",
    "        count=count+1\n",
    "print(sum1)\n",
    "avg=sum1/count\n",
    "print( avg)"
   ]
  },
  {
   "cell_type": "code",
   "execution_count": 7,
   "metadata": {},
   "outputs": [
    {
     "name": "stdout",
     "output_type": "stream",
     "text": [
      "5\n",
      "7\n",
      "5 6 5.5\n"
     ]
    }
   ],
   "source": [
    "#print sum and average without int\n",
    "a=(input())\n",
    "n=(input())\n",
    "sum1=0\n",
    "count=0\n",
    "for i in range(int(a),int(n)):\n",
    "    print(i,end=' ')\n",
    "    count=count+1\n",
    "    sum1+=int(i)\n",
    "avg=sum1/count\n",
    "print(avg)"
   ]
  },
  {
   "cell_type": "code",
   "execution_count": 10,
   "metadata": {},
   "outputs": [
    {
     "name": "stdout",
     "output_type": "stream",
     "text": [
      "5\n",
      "120 "
     ]
    }
   ],
   "source": [
    "#print factorial of a number\n",
    "a=int(input())\n",
    "fact=1\n",
    "for i in range(1,a+1):\n",
    "    fact=fact*i\n",
    "print(fact,end=\" \")\n",
    "    "
   ]
  },
  {
   "cell_type": "code",
   "execution_count": 18,
   "metadata": {},
   "outputs": [
    {
     "name": "stdout",
     "output_type": "stream",
     "text": [
      "7\n",
      "2\n",
      "7 is prime\n"
     ]
    }
   ],
   "source": [
    "# print given number is prime or not\n",
    "n=int(input())\n",
    "p = 0\n",
    "for i in range(1,n+1):\n",
    "    if n%i == 0:\n",
    "        p += 1\n",
    "print(p)\n",
    "if p == 2:\n",
    "    print(n,\"is prime\")\n",
    "else:\n",
    "    print(n, \"is not prime\")"
   ]
  },
  {
   "cell_type": "code",
   "execution_count": 26,
   "metadata": {},
   "outputs": [
    {
     "name": "stdout",
     "output_type": "stream",
     "text": [
      "6\n",
      "6 is a perfect number\n"
     ]
    }
   ],
   "source": [
    "#print given number is perfect number or not\n",
    "n=int(input())\n",
    "sum1=0\n",
    "for i in range(1,n):\n",
    "    if n%i == 0:\n",
    "        sum1+=i\n",
    "if sum1 == n:\n",
    "    print(n,\"is a perfect number\")\n",
    "else:\n",
    "    print(n,\"is not a perfect number\")"
   ]
  },
  {
   "cell_type": "code",
   "execution_count": 30,
   "metadata": {},
   "outputs": [
    {
     "name": "stdout",
     "output_type": "stream",
     "text": [
      "5\n",
      "120 "
     ]
    }
   ],
   "source": [
    "n=int(input())\n",
    "sum1=0\n",
    "fact = 1\n",
    "if n%2==0:\n",
    "    for i in range(1,n):\n",
    "        if n%i == 0:\n",
    "            sum1+=i\n",
    "    if sum1 == n:\n",
    "        print(n,\"is a perfect number\")\n",
    "    else:\n",
    "        print(n,\"i not a perfect number\")\n",
    "else:\n",
    "    for i in range(1,n+1):\n",
    "        fact=fact*i\n",
    "    print(fact,end=\" \")\n"
   ]
  },
  {
   "cell_type": "code",
   "execution_count": 3,
   "metadata": {},
   "outputs": [
    {
     "name": "stdout",
     "output_type": "stream",
     "text": [
      "5\n",
      "5 * 1 = 5\n",
      "5 * 2 = 10\n",
      "5 * 3 = 15\n",
      "5 * 4 = 20\n",
      "5 * 5 = 25\n",
      "5 * 6 = 30\n",
      "5 * 7 = 35\n",
      "5 * 8 = 40\n",
      "5 * 9 = 45\n",
      "5 * 10 = 50\n",
      "5 * 11 = 55\n",
      "5 * 12 = 60\n",
      "5 * 13 = 65\n",
      "5 * 14 = 70\n",
      "5 * 15 = 75\n",
      "5 * 16 = 80\n",
      "5 * 17 = 85\n",
      "5 * 18 = 90\n",
      "5 * 19 = 95\n",
      "5 * 20 = 100\n"
     ]
    }
   ],
   "source": [
    "#multiplication table\n",
    "n=int(input())\n",
    "for i in range(1,21):\n",
    "    print(n,\"*\",i,\"=\",n*i)"
   ]
  },
  {
   "cell_type": "code",
   "execution_count": null,
   "metadata": {},
   "outputs": [],
   "source": [
    "#jump statements\n",
    "break\n",
    "continue"
   ]
  },
  {
   "cell_type": "code",
   "execution_count": 5,
   "metadata": {},
   "outputs": [
    {
     "name": "stdout",
     "output_type": "stream",
     "text": [
      "6\n",
      "1\n",
      "2\n",
      "3\n",
      "4\n"
     ]
    }
   ],
   "source": [
    "n=int(input())\n",
    "for i in range(1,n+1):\n",
    "    if i==5:\n",
    "        break\n",
    "    print(i)"
   ]
  },
  {
   "cell_type": "code",
   "execution_count": 1,
   "metadata": {},
   "outputs": [
    {
     "name": "stdout",
     "output_type": "stream",
     "text": [
      "6\n",
      "1\n",
      "2\n",
      "3\n",
      "4\n",
      "6\n"
     ]
    }
   ],
   "source": [
    "n=int(input())\n",
    "for i in range(1,n+1):\n",
    "    if i==5:\n",
    "        continue\n",
    "    print(i)"
   ]
  },
  {
   "cell_type": "code",
   "execution_count": null,
   "metadata": {},
   "outputs": [],
   "source": []
  },
  {
   "cell_type": "code",
   "execution_count": 2,
   "metadata": {},
   "outputs": [
    {
     "name": "stdout",
     "output_type": "stream",
     "text": [
      "jyothi\n",
      "j y o t h i "
     ]
    }
   ],
   "source": [
    "#with string values\n",
    "n=input()\n",
    "for i in n:\n",
    "    print(i,end=\" \")"
   ]
  },
  {
   "cell_type": "code",
   "execution_count": null,
   "metadata": {
    "collapsed": true
   },
   "outputs": [],
   "source": [
    "#ascii values\n",
    "1.ord()----> parameter is string(character)\n",
    "2.chr()----> calculating character from ascii value"
   ]
  },
  {
   "cell_type": "code",
   "execution_count": 5,
   "metadata": {},
   "outputs": [
    {
     "name": "stdout",
     "output_type": "stream",
     "text": [
      "97\n",
      "65\n",
      "52\n"
     ]
    }
   ],
   "source": [
    "print(ord('a'))\n",
    "print(ord(\"A\"))\n",
    "print(ord(\"4\"))"
   ]
  },
  {
   "cell_type": "code",
   "execution_count": 9,
   "metadata": {},
   "outputs": [
    {
     "data": {
      "text/plain": [
       "'o'"
      ]
     },
     "execution_count": 9,
     "metadata": {},
     "output_type": "execute_result"
    }
   ],
   "source": [
    "chr(65)\n",
    "chr(111)"
   ]
  },
  {
   "cell_type": "code",
   "execution_count": 13,
   "metadata": {},
   "outputs": [
    {
     "name": "stdout",
     "output_type": "stream",
     "text": [
      "jyothi\n",
      "106\n",
      "121\n",
      "111\n",
      "116\n",
      "104\n",
      "105\n"
     ]
    }
   ],
   "source": [
    "#print ascii value of a character from given string\n",
    "n=input()\n",
    "for i in n:\n",
    "    print(ord(i))"
   ]
  },
  {
   "cell_type": "code",
   "execution_count": 31,
   "metadata": {},
   "outputs": [
    {
     "name": "stdout",
     "output_type": "stream",
     "text": [
      "CAPSULE\n",
      "80\n",
      "76\n"
     ]
    }
   ],
   "source": [
    "# print even ascii values of a character from given string\n",
    "n=input()\n",
    "for i in n:\n",
    "    if ord(i)%2==0:\n",
    "        print(ord(i))"
   ]
  },
  {
   "cell_type": "code",
   "execution_count": 30,
   "metadata": {},
   "outputs": [
    {
     "name": "stdout",
     "output_type": "stream",
     "text": [
      "CAPSULE\n",
      "p i P ¬ ´ L w "
     ]
    }
   ],
   "source": [
    "#some given problem\n",
    "n=input()\n",
    "for i in n:\n",
    "    if ord(i)%2==0:\n",
    "        print(i,end=\" \")\n",
    "    else:\n",
    "        a=(ord(i)*ord(i))/40\n",
    "        print(chr(int(a)),end=\" \")\n",
    "     "
   ]
  },
  {
   "cell_type": "code",
   "execution_count": null,
   "metadata": {},
   "outputs": [],
   "source": [
    "##WHILE LOOP\n",
    "syntax of while loop\n",
    "while condition:\n",
    "    body of loop"
   ]
  },
  {
   "cell_type": "code",
   "execution_count": 32,
   "metadata": {},
   "outputs": [
    {
     "name": "stdout",
     "output_type": "stream",
     "text": [
      "1 2 3 4 5 6 7 8 9 10 "
     ]
    }
   ],
   "source": [
    "# while loop 10 print natural numbers\n",
    "i=1\n",
    "while i<=10:\n",
    "    print(i,end=\" \")\n",
    "    i=i+1"
   ]
  },
  {
   "cell_type": "code",
   "execution_count": 1,
   "metadata": {},
   "outputs": [
    {
     "name": "stdout",
     "output_type": "stream",
     "text": [
      "2 4 6 8 10 "
     ]
    }
   ],
   "source": [
    "#print even numbers\n",
    "i=1\n",
    "while i<=10:\n",
    "    if i%2==0:\n",
    "        print(i,end=\" \")\n",
    "    i=i+1"
   ]
  },
  {
   "cell_type": "markdown",
   "metadata": {},
   "source": [
    "### Funtions\n",
    "* block or set of statements to perform particular task is funtion\n",
    "* block of ststements will execute and return the result when  funtion called\n",
    "##### funtion contains\n",
    "1. funtion declaration\n",
    "2. body of funtion\n",
    "3. funtion calling\n",
    "#### types of funtions\n",
    "1. bulit in funtion\n",
    "  1. max--->max value\n",
    "  2. min--->min value\n",
    "  3. sum--->sum\n",
    "  4. len---->calculate the length (string value or data structure)\n",
    "  5. ord\n",
    "  6. chr\n",
    "  7. abs---->absolute value\n",
    "2. user defined funtions\n",
    "  * user defined funtion is funtion which is definrd by the user to perform particular task\n",
    "  1. required arg\n",
    "  2. default arg\n",
    "  3. keyword arg\n",
    "  4. variable length\n",
    "  "
   ]
  },
  {
   "cell_type": "code",
   "execution_count": null,
   "metadata": {},
   "outputs": [],
   "source": [
    "#syntax of function\n",
    "def function_name(arg):\n",
    "    body of funtion\n",
    "funtion_name()"
   ]
  },
  {
   "cell_type": "code",
   "execution_count": 2,
   "metadata": {},
   "outputs": [
    {
     "name": "stdout",
     "output_type": "stream",
     "text": [
      "welcome to vignan\n"
     ]
    }
   ],
   "source": [
    "#greet\n",
    "def sample():\n",
    "    print(\"welcome to vignan\")\n",
    "sample()"
   ]
  },
  {
   "cell_type": "code",
   "execution_count": 3,
   "metadata": {},
   "outputs": [
    {
     "name": "stdout",
     "output_type": "stream",
     "text": [
      "jyothi\n",
      "welcome to vignan jyothi\n"
     ]
    }
   ],
   "source": [
    "n=input()\n",
    "def sample():\n",
    "    print(\"welcome to vignan\",n)\n",
    "sample()"
   ]
  },
  {
   "cell_type": "code",
   "execution_count": 1,
   "metadata": {},
   "outputs": [
    {
     "name": "stdout",
     "output_type": "stream",
     "text": [
      "3\n",
      "7\n",
      "multiply of 3 with 7 is 21\n"
     ]
    }
   ],
   "source": [
    "#local variables\n",
    "def local():\n",
    "    n=int(input())\n",
    "    n1=int(input())\n",
    "    print(\"multiply of\",n,\"with\",n1,\"is\",n*n1)\n",
    "local()"
   ]
  },
  {
   "cell_type": "code",
   "execution_count": 1,
   "metadata": {},
   "outputs": [
    {
     "name": "stdout",
     "output_type": "stream",
     "text": [
      "3\n",
      "7\n",
      "multiply of 3 with 7 is 21\n"
     ]
    }
   ],
   "source": [
    "#global variables\n",
    "n=int(input())\n",
    "n1=int(input())\n",
    "def local():\n",
    "    print(\"multiply of\",n,\"with\",n1,\"is\",n*n1)\n",
    "local()\n",
    "    "
   ]
  },
  {
   "cell_type": "code",
   "execution_count": 2,
   "metadata": {},
   "outputs": [
    {
     "name": "stdout",
     "output_type": "stream",
     "text": [
      "6\n",
      "6 is a perfect number\n"
     ]
    }
   ],
   "source": [
    "#some given problem\n",
    "n=int(input())\n",
    "def local():\n",
    "    sum1=0\n",
    "    if n%2==0:\n",
    "        for i in range(1,n):\n",
    "            if n%i == 0:\n",
    "                sum1+=i\n",
    "        if sum1 == n:\n",
    "            print(n,\"is a perfect number\")\n",
    "        else:\n",
    "            print(n,\"i not a perfect number\")\n",
    "def factorial():\n",
    "    fact=1\n",
    "    for i in range(1,n+1):\n",
    "        fact=fact*i\n",
    "    print(fact,end=\" \")\n",
    "if n%2==0:\n",
    "    local()\n",
    "else:\n",
    "    factorial()"
   ]
  },
  {
   "cell_type": "code",
   "execution_count": 4,
   "metadata": {},
   "outputs": [
    {
     "name": "stdout",
     "output_type": "stream",
     "text": [
      "jyothi\n",
      "vignan\n",
      "name is: jyothi\n",
      "organisation is: vignan\n"
     ]
    }
   ],
   "source": [
    "#required arg\n",
    "name=input()\n",
    "org=input()\n",
    "def required(name,org):\n",
    "    print(\"name is:\",name)\n",
    "    print(\"organisation is:\",org)\n",
    "required(name,org)    "
   ]
  },
  {
   "cell_type": "code",
   "execution_count": 7,
   "metadata": {},
   "outputs": [
    {
     "name": "stdout",
     "output_type": "stream",
     "text": [
      "add is: 15\n",
      "multiplication is : 60\n"
     ]
    }
   ],
   "source": [
    "#default arg\n",
    "def default(a,b,c=10):\n",
    "    print(\"add is:\",a+b+c)\n",
    "    print(\"multiplication is :\",a*b*c)\n",
    "default(3,2)"
   ]
  },
  {
   "cell_type": "code",
   "execution_count": 10,
   "metadata": {},
   "outputs": [
    {
     "name": "stdout",
     "output_type": "stream",
     "text": [
      "name is jyothiudatha\n",
      "username:  jyothi123\n"
     ]
    }
   ],
   "source": [
    "#keyword arg\n",
    "def keyword(fname,lname,uname):\n",
    "    print(\"name is\",fname+lname)\n",
    "    print(\"username: \",uname)\n",
    "keyword(fname='jyothi',lname='udatha',uname='jyothi123')"
   ]
  },
  {
   "cell_type": "code",
   "execution_count": null,
   "metadata": {},
   "outputs": [],
   "source": []
  }
 ],
 "metadata": {
  "kernelspec": {
   "display_name": "Python 3",
   "language": "python",
   "name": "python3"
  },
  "language_info": {
   "codemirror_mode": {
    "name": "ipython",
    "version": 3
   },
   "file_extension": ".py",
   "mimetype": "text/x-python",
   "name": "python",
   "nbconvert_exporter": "python",
   "pygments_lexer": "ipython3",
   "version": "3.8.5"
  }
 },
 "nbformat": 4,
 "nbformat_minor": 4
}
